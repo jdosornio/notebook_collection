{
  "nbformat": 4,
  "nbformat_minor": 0,
  "metadata": {
    "colab": {
      "name": "Newswires Classification: Multiclass classification.ipynb",
      "provenance": []
    },
    "kernelspec": {
      "name": "python3",
      "display_name": "Python 3"
    },
    "language_info": {
      "name": "python"
    }
  },
  "cells": [
    {
      "cell_type": "markdown",
      "source": [
        "#Multiclass classification"
      ],
      "metadata": {
        "id": "vn2GKk6rOxPD"
      }
    },
    {
      "cell_type": "markdown",
      "source": [
        "##Reuters dataset"
      ],
      "metadata": {
        "id": "z8fbUOKpO6tC"
      }
    },
    {
      "cell_type": "markdown",
      "source": [
        "###Loading the Reuters dataset"
      ],
      "metadata": {
        "id": "_GJeo1b7PA1f"
      }
    },
    {
      "cell_type": "code",
      "execution_count": null,
      "metadata": {
        "id": "kL36iNR8OZWF"
      },
      "outputs": [],
      "source": [
        "from keras.datasets import reuters\n",
        "\n",
        "(train_data, train_labels), (test_data, test_labels) = reuters.load_data(num_words = 10000)"
      ]
    },
    {
      "cell_type": "markdown",
      "source": [
        "###Decoding newswires back to text"
      ],
      "metadata": {
        "id": "7vHVemRaSwU1"
      }
    },
    {
      "cell_type": "code",
      "source": [
        "word_index = dict([(value, key) for (key, value) in reuters.get_word_index().items()])\n",
        "\n",
        "def decode_review(orig_review):\n",
        "  return ' '.join([word_index.get(i - 3, '?') for i in orig_review])"
      ],
      "metadata": {
        "id": "HHMi_EKJSZjB"
      },
      "execution_count": null,
      "outputs": []
    },
    {
      "cell_type": "markdown",
      "source": [
        "##Preparing the data"
      ],
      "metadata": {
        "id": "FqFLV0VgTjSi"
      }
    },
    {
      "cell_type": "markdown",
      "source": [
        "###Encoding the data"
      ],
      "metadata": {
        "id": "hvpyVHD7T_01"
      }
    },
    {
      "cell_type": "code",
      "source": [
        "import numpy as np\n",
        "\n",
        "def vectorize_sequences(sequences, dimension = 10000):\n",
        "  results = np.zeros((len(sequences), dimension))\n",
        "  for i, sequence in enumerate(sequences):\n",
        "    results[i, sequence] = 1.\n",
        "  \n",
        "  return results\n",
        "\n",
        "x_train = vectorize_sequences(train_data)\n",
        "x_test = vectorize_sequences(test_data)\n",
        "\n",
        "from keras.utils.np_utils import to_categorical\n",
        "\n",
        "#Vectorizes the labels\n",
        "one_hot_train_labels = to_categorical(train_labels)\n",
        "one_hot_test_labels = to_categorical(test_labels)"
      ],
      "metadata": {
        "id": "ouySU6u7TFCF"
      },
      "execution_count": null,
      "outputs": []
    },
    {
      "cell_type": "markdown",
      "source": [
        "##Building the network"
      ],
      "metadata": {
        "id": "tXBMeeSvU34E"
      }
    },
    {
      "cell_type": "markdown",
      "source": [
        "###Model definition"
      ],
      "metadata": {
        "id": "qKX0mArHVZjz"
      }
    },
    {
      "cell_type": "code",
      "source": [
        "from keras import models\n",
        "from keras import layers\n",
        "\n",
        "model = models.Sequential()\n",
        "model.add(layers.Dense(64, activation = 'relu', input_shape = (10000,)))\n",
        "model.add(layers.Dense(64, activation = 'relu'))\n",
        "model.add(layers.Dense(46, activation = 'softmax'))"
      ],
      "metadata": {
        "id": "CnYPZftyVcYi"
      },
      "execution_count": null,
      "outputs": []
    },
    {
      "cell_type": "markdown",
      "source": [
        "###Compiling the model"
      ],
      "metadata": {
        "id": "aqMVSd1ZXCTd"
      }
    },
    {
      "cell_type": "code",
      "source": [
        "model.compile(optimizer='rmsprop', loss='categorical_crossentropy', metrics = ['accuracy'])"
      ],
      "metadata": {
        "id": "DIqIkBCoXEbZ"
      },
      "execution_count": null,
      "outputs": []
    },
    {
      "cell_type": "markdown",
      "source": [
        "##Validating the approach"
      ],
      "metadata": {
        "id": "v7HY5EKZXeTp"
      }
    },
    {
      "cell_type": "markdown",
      "source": [
        "###Setting aside a validation set"
      ],
      "metadata": {
        "id": "PolCn9bvXgPm"
      }
    },
    {
      "cell_type": "code",
      "source": [
        "x_val = x_train[:1000]\n",
        "partial_x_train = x_train[1000:]\n",
        "y_val = one_hot_train_labels[:1000]\n",
        "partial_y_train = one_hot_train_labels[1000:]"
      ],
      "metadata": {
        "id": "fY6gBfdjXkVD"
      },
      "execution_count": null,
      "outputs": []
    },
    {
      "cell_type": "markdown",
      "source": [
        "###Training the model"
      ],
      "metadata": {
        "id": "qvVTrhwIX62m"
      }
    },
    {
      "cell_type": "code",
      "source": [
        "history = model.fit(partial_x_train, partial_y_train, epochs=20, batch_size=512, validation_data=(x_val, y_val))"
      ],
      "metadata": {
        "colab": {
          "base_uri": "https://localhost:8080/"
        },
        "id": "-N8W27q5X9Gp",
        "outputId": "189b3697-ffa0-406d-97b7-1179b94d073f"
      },
      "execution_count": null,
      "outputs": [
        {
          "output_type": "stream",
          "name": "stdout",
          "text": [
            "Epoch 1/20\n",
            "16/16 [==============================] - 2s 71ms/step - loss: 2.5106 - accuracy: 0.5213 - val_loss: 1.6791 - val_accuracy: 0.6330\n",
            "Epoch 2/20\n",
            "16/16 [==============================] - 1s 63ms/step - loss: 1.3873 - accuracy: 0.7031 - val_loss: 1.2823 - val_accuracy: 0.7100\n",
            "Epoch 3/20\n",
            "16/16 [==============================] - 1s 64ms/step - loss: 1.0307 - accuracy: 0.7756 - val_loss: 1.1407 - val_accuracy: 0.7540\n",
            "Epoch 4/20\n",
            "16/16 [==============================] - 1s 62ms/step - loss: 0.8075 - accuracy: 0.8296 - val_loss: 1.0149 - val_accuracy: 0.7950\n",
            "Epoch 5/20\n",
            "16/16 [==============================] - 1s 51ms/step - loss: 0.6396 - accuracy: 0.8666 - val_loss: 0.9542 - val_accuracy: 0.8100\n",
            "Epoch 6/20\n",
            "16/16 [==============================] - 1s 77ms/step - loss: 0.5074 - accuracy: 0.8968 - val_loss: 0.9480 - val_accuracy: 0.8000\n",
            "Epoch 7/20\n",
            "16/16 [==============================] - 2s 107ms/step - loss: 0.4117 - accuracy: 0.9146 - val_loss: 0.9405 - val_accuracy: 0.8070\n",
            "Epoch 8/20\n",
            "16/16 [==============================] - 1s 93ms/step - loss: 0.3317 - accuracy: 0.9312 - val_loss: 0.9175 - val_accuracy: 0.8060\n",
            "Epoch 9/20\n",
            "16/16 [==============================] - 1s 62ms/step - loss: 0.2772 - accuracy: 0.9415 - val_loss: 0.9422 - val_accuracy: 0.8050\n",
            "Epoch 10/20\n",
            "16/16 [==============================] - 1s 89ms/step - loss: 0.2305 - accuracy: 0.9468 - val_loss: 0.9392 - val_accuracy: 0.8110\n",
            "Epoch 11/20\n",
            "16/16 [==============================] - 1s 83ms/step - loss: 0.2028 - accuracy: 0.9509 - val_loss: 0.9442 - val_accuracy: 0.8190\n",
            "Epoch 12/20\n",
            "16/16 [==============================] - 1s 61ms/step - loss: 0.1802 - accuracy: 0.9510 - val_loss: 1.0050 - val_accuracy: 0.8120\n",
            "Epoch 13/20\n",
            "16/16 [==============================] - 1s 51ms/step - loss: 0.1611 - accuracy: 0.9538 - val_loss: 0.9823 - val_accuracy: 0.8080\n",
            "Epoch 14/20\n",
            "16/16 [==============================] - 1s 50ms/step - loss: 0.1473 - accuracy: 0.9569 - val_loss: 0.9847 - val_accuracy: 0.8080\n",
            "Epoch 15/20\n",
            "16/16 [==============================] - 1s 51ms/step - loss: 0.1367 - accuracy: 0.9555 - val_loss: 1.0971 - val_accuracy: 0.7860\n",
            "Epoch 16/20\n",
            "16/16 [==============================] - 1s 62ms/step - loss: 0.1316 - accuracy: 0.9572 - val_loss: 1.0677 - val_accuracy: 0.8080\n",
            "Epoch 17/20\n",
            "16/16 [==============================] - 1s 61ms/step - loss: 0.1212 - accuracy: 0.9590 - val_loss: 1.0389 - val_accuracy: 0.8120\n",
            "Epoch 18/20\n",
            "16/16 [==============================] - 1s 51ms/step - loss: 0.1157 - accuracy: 0.9578 - val_loss: 1.1533 - val_accuracy: 0.7830\n",
            "Epoch 19/20\n",
            "16/16 [==============================] - 1s 50ms/step - loss: 0.1181 - accuracy: 0.9568 - val_loss: 1.1352 - val_accuracy: 0.7960\n",
            "Epoch 20/20\n",
            "16/16 [==============================] - 1s 54ms/step - loss: 0.1146 - accuracy: 0.9583 - val_loss: 1.0894 - val_accuracy: 0.8080\n"
          ]
        }
      ]
    },
    {
      "cell_type": "markdown",
      "source": [
        "###Plot the training and validation loss"
      ],
      "metadata": {
        "id": "bo6e_fevZGyC"
      }
    },
    {
      "cell_type": "code",
      "source": [
        "import matplotlib.pyplot as plt\n",
        "\n",
        "\n",
        "history_dict = history.history\n",
        "loss_values = history_dict['loss']\n",
        "val_loss_values = history_dict['val_loss']\n",
        "epochs = range(1, len(loss_values) + 1)\n",
        "\n",
        "plt.plot(epochs, loss_values, 'bo', label = 'Training loss')\n",
        "plt.plot(epochs, val_loss_values, 'b', label = 'Validation loss')\n",
        "plt.title('Training and validation loss')\n",
        "plt.xlabel('Epochs')\n",
        "plt.ylabel('Lose')\n",
        "plt.legend()\n",
        "\n",
        "plt.show()"
      ],
      "metadata": {
        "colab": {
          "base_uri": "https://localhost:8080/",
          "height": 295
        },
        "id": "oCNP_9dpZKqO",
        "outputId": "aca23168-2870-4a51-a4d5-2332b732227a"
      },
      "execution_count": null,
      "outputs": [
        {
          "output_type": "display_data",
          "data": {
            "text/plain": [
              "<Figure size 432x288 with 1 Axes>"
            ],
            "image/png": "[encoded data removed]"
          },
          "metadata": {
            "needs_background": "light"
          }
        }
      ]
    },
    {
      "cell_type": "markdown",
      "source": [
        "###Plot the training and validation accuracy"
      ],
      "metadata": {
        "id": "DSmAOTrvZqXZ"
      }
    },
    {
      "cell_type": "code",
      "source": [
        "plt.clf()\n",
        "acc = history_dict['accuracy']\n",
        "val_acc = history_dict['val_accuracy']\n",
        "plt.plot(epochs, acc, 'bo', label = 'Training acc')\n",
        "plt.plot(epochs, val_acc, 'b', label = 'Validation acc')\n",
        "plt.title('Training and validation accuracy')\n",
        "plt.xlabel('Epochs')\n",
        "plt.ylabel('Accuracy')\n",
        "plt.legend()\n",
        "\n",
        "plt.show()"
      ],
      "metadata": {
        "colab": {
          "base_uri": "https://localhost:8080/",
          "height": 295
        },
        "id": "eJvhrmxZZu_P",
        "outputId": "bf8b6842-dd4c-431d-9ed3-2cbb369a3643"
      },
      "execution_count": null,
      "outputs": [
        {
          "output_type": "display_data",
          "data": {
            "text/plain": [
              "<Figure size 432x288 with 1 Axes>"
            ],
            "image/png": "[encoded data removed]"
          },
          "metadata": {
            "needs_background": "light"
          }
        }
      ]
    },
    {
      "cell_type": "markdown",
      "source": [
        "###Retrain model from scratch with new epochs"
      ],
      "metadata": {
        "id": "SCbzR4hIaVPK"
      }
    },
    {
      "cell_type": "code",
      "source": [
        "model = models.Sequential()\n",
        "model.add(layers.Dense(64, activation='relu', input_shape=(10000,)))\n",
        "model.add(layers.Dense(64, activation='relu'))\n",
        "model.add(layers.Dense(46, activation='softmax'))\n",
        "\n",
        "model.compile(optimizer='rmsprop', loss='categorical_crossentropy', metrics = ['accuracy'])\n",
        "\n",
        "model.fit(x_train, one_hot_train_labels, batch_size=512, epochs=9)\n",
        "\n",
        "results = model.evaluate(x_test, one_hot_test_labels)"
      ],
      "metadata": {
        "colab": {
          "base_uri": "https://localhost:8080/"
        },
        "id": "AB1kGK7laYZA",
        "outputId": "740e2560-703f-4a22-a8eb-84b116fef4e7"
      },
      "execution_count": null,
      "outputs": [
        {
          "output_type": "stream",
          "name": "stdout",
          "text": [
            "Epoch 1/9\n",
            "18/18 [==============================] - 1s 49ms/step - loss: 2.5581 - accuracy: 0.5262\n",
            "Epoch 2/9\n",
            "18/18 [==============================] - 1s 46ms/step - loss: 1.3957 - accuracy: 0.7111\n",
            "Epoch 3/9\n",
            "18/18 [==============================] - 1s 45ms/step - loss: 1.0399 - accuracy: 0.7771\n",
            "Epoch 4/9\n",
            "18/18 [==============================] - 1s 47ms/step - loss: 0.8167 - accuracy: 0.8288\n",
            "Epoch 5/9\n",
            "18/18 [==============================] - 1s 55ms/step - loss: 0.6486 - accuracy: 0.8667\n",
            "Epoch 6/9\n",
            "18/18 [==============================] - 1s 47ms/step - loss: 0.5202 - accuracy: 0.8927\n",
            "Epoch 7/9\n",
            "18/18 [==============================] - 1s 45ms/step - loss: 0.4182 - accuracy: 0.9145\n",
            "Epoch 8/9\n",
            "18/18 [==============================] - 1s 54ms/step - loss: 0.3456 - accuracy: 0.9284\n",
            "Epoch 9/9\n",
            "18/18 [==============================] - 2s 107ms/step - loss: 0.2864 - accuracy: 0.9375\n",
            "71/71 [==============================] - 0s 5ms/step - loss: 0.9501 - accuracy: 0.7912\n"
          ]
        }
      ]
    },
    {
      "cell_type": "markdown",
      "source": [
        "##Generating predictions on new data"
      ],
      "metadata": {
        "id": "sgMgJ52scdxQ"
      }
    },
    {
      "cell_type": "code",
      "source": [
        "predictions = model.predict(x_test)"
      ],
      "metadata": {
        "id": "i0xkPugJbz6l"
      },
      "execution_count": null,
      "outputs": []
    },
    {
      "cell_type": "code",
      "source": [
        "#Get the max probability\n",
        "idx = 12\n",
        "predictions[idx][np.argmax(predictions[idx])]\n",
        "\n",
        "#In case of using integer tensor for labels (y_train = np.array(train_labels)) instead of to_categorical, you need to use loss = 'sparse_categorical_crossentropy'"
      ],
      "metadata": {
        "colab": {
          "base_uri": "https://localhost:8080/"
        },
        "id": "tJ-SouMhct4u",
        "outputId": "ee299697-7e38-4a63-95f4-5001a2d62901"
      },
      "execution_count": null,
      "outputs": [
        {
          "output_type": "execute_result",
          "data": {
            "text/plain": [
              "0.97500813"
            ]
          },
          "metadata": {},
          "execution_count": 50
        }
      ]
    }
  ]
}